{
 "cells": [
  {
   "cell_type": "markdown",
   "metadata": {},
   "source": [
    "# *Importing Essential Libraries*"
   ]
  },
  {
   "cell_type": "code",
   "execution_count": null,
   "metadata": {
    "execution": {
     "iopub.execute_input": "2025-09-25T15:53:06.032908Z",
     "iopub.status.busy": "2025-09-25T15:53:06.032256Z",
     "iopub.status.idle": "2025-09-25T15:53:06.036997Z",
     "shell.execute_reply": "2025-09-25T15:53:06.036268Z",
     "shell.execute_reply.started": "2025-09-25T15:53:06.032880Z"
    },
    "papermill": {
     "duration": 0.926929,
     "end_time": "2021-01-01T09:44:54.403588",
     "exception": false,
     "start_time": "2021-01-01T09:44:53.476659",
     "status": "completed"
    },
    "tags": [],
    "trusted": true
   },
   "outputs": [],
   "source": [
    "# ==============================================================================\n",
    "# CORE DATA SCIENCE LIBRARIES\n",
    "# ==============================================================================\n",
    "import numpy as np  # Fundamental library for high-performance numerical computing (arrays, matrices, linear algebra)\n",
    "import pandas as pd  # The primary tool for data manipulation and analysis, providing DataFrames\n",
    "\n",
    "# ==============================================================================\n",
    "# FILE SYSTEM AND UTILITIES\n",
    "# ==============================================================================\n",
    "from glob import glob  # Utility to find file pathnames matching a specified pattern (useful for bulk file loading)\n",
    "import shutil, os  # Modules for interacting with the operating system, including high-level file operations (shutil) and path manipulation (os)\n",
    "from tqdm.notebook import tqdm  # Displays smart progress bars for loops, ideal for tracking long operations in Jupyter/Colab notebooks\n",
    "\n",
    "# ==============================================================================\n",
    "# DATA VISUALIZATION\n",
    "# ==============================================================================\n",
    "import matplotlib.pyplot as plt  # Standard plotting library for creating static, interactive, and animated visualizations\n",
    "import seaborn as sns  # High-level interface for drawing attractive and informative statistical graphics, built on Matplotlib\n",
    "\n",
    "# ==============================================================================\n",
    "# MACHINE LEARNING / MODELING\n",
    "# ==============================================================================\n",
    "from sklearn.model_selection import GroupKFold  # Scikit-learn cross-validation: ensures that predefined 'groups' (e.g., subjects/patients) are not split across training and testing folds"
   ]
  },
  {
   "cell_type": "markdown",
   "metadata": {},
   "source": [
    "# *Define Model Hyperparameters*"
   ]
  },
  {
   "cell_type": "code",
   "execution_count": null,
   "metadata": {
    "execution": {
     "iopub.execute_input": "2025-09-25T15:53:11.052580Z",
     "iopub.status.busy": "2025-09-25T15:53:11.052284Z",
     "iopub.status.idle": "2025-09-25T15:53:11.056224Z",
     "shell.execute_reply": "2025-09-25T15:53:11.055555Z",
     "shell.execute_reply.started": "2025-09-25T15:53:11.052556Z"
    },
    "trusted": true
   },
   "outputs": [],
   "source": [
    "dim = 512  \n",
    "fold = 5  "
   ]
  },
  {
   "cell_type": "markdown",
   "metadata": {},
   "source": [
    "   # *Load Training Data and Initial Inspection*"
   ]
  },
  {
   "cell_type": "code",
   "execution_count": null,
   "metadata": {
    "execution": {
     "iopub.execute_input": "2025-09-25T15:53:13.426191Z",
     "iopub.status.busy": "2025-09-25T15:53:13.425918Z",
     "iopub.status.idle": "2025-09-25T15:53:13.522107Z",
     "shell.execute_reply": "2025-09-25T15:53:13.521414Z",
     "shell.execute_reply.started": "2025-09-25T15:53:13.426168Z"
    },
    "papermill": {
     "duration": 0.262045,
     "end_time": "2021-01-01T09:44:54.691965",
     "exception": false,
     "start_time": "2021-01-01T09:44:54.42992",
     "status": "completed"
    },
    "tags": [],
    "trusted": true
   },
   "outputs": [],
   "source": [
    "# Load the main training metadata file (train.csv)\n",
    "train_df = pd.read_csv(f'../input/vinbigdata-{dim}-image-dataset/vinbigdata/train.csv')\n",
    "\n",
    "# Display the first few rows of the DataFrame to inspect the data structure, column names, and initial values\n",
    "train_df.head()"
   ]
  },
  {
   "cell_type": "markdown",
   "metadata": {},
   "source": [
    "# *Create Full Image File Paths*"
   ]
  },
  {
   "cell_type": "code",
   "execution_count": null,
   "metadata": {
    "execution": {
     "iopub.execute_input": "2025-09-25T15:53:16.590180Z",
     "iopub.status.busy": "2025-09-25T15:53:16.589436Z",
     "iopub.status.idle": "2025-09-25T15:53:16.627847Z",
     "shell.execute_reply": "2025-09-25T15:53:16.627227Z",
     "shell.execute_reply.started": "2025-09-25T15:53:16.590153Z"
    },
    "papermill": {
     "duration": 0.086788,
     "end_time": "2021-01-01T09:44:54.805857",
     "exception": false,
     "start_time": "2021-01-01T09:44:54.719069",
     "status": "completed"
    },
    "tags": [],
    "trusted": true
   },
   "outputs": [],
   "source": [
    "# Create image path dynamically\n",
    "train_df['image_path'] = f'/kaggle/input/vinbigdata-{dim}-image-dataset/vinbigdata/train/'+train_df.image_id+('.png' if dim!='original' else '.jpg')\n",
    "\n",
    "# Check new column\n",
    "train_df.head()"
   ]
  },
  {
   "cell_type": "markdown",
   "metadata": {},
   "source": [
    "# *Filter Out 'No Finding' Class*"
   ]
  },
  {
   "cell_type": "code",
   "execution_count": null,
   "metadata": {
    "execution": {
     "iopub.execute_input": "2025-09-25T15:53:20.446141Z",
     "iopub.status.busy": "2025-09-25T15:53:20.445400Z",
     "iopub.status.idle": "2025-09-25T15:53:20.458569Z",
     "shell.execute_reply": "2025-09-25T15:53:20.457792Z",
     "shell.execute_reply.started": "2025-09-25T15:53:20.446111Z"
    },
    "papermill": {
     "duration": 0.05543,
     "end_time": "2021-01-01T09:44:54.944088",
     "exception": false,
     "start_time": "2021-01-01T09:44:54.888658",
     "status": "completed"
    },
    "tags": [],
    "trusted": true
   },
   "outputs": [],
   "source": [
    "# Filter out all rows where the 'class_id' is 14 (likely the \"No Finding\" or irrelevant class)\n",
    "train_df = train_df[train_df.class_id!=14].reset_index(drop = True)"
   ]
  },
  {
   "cell_type": "markdown",
   "metadata": {
    "papermill": {
     "duration": 0.027303,
     "end_time": "2021-01-01T09:44:54.999199",
     "exception": false,
     "start_time": "2021-01-01T09:44:54.971896",
     "status": "completed"
    },
    "tags": []
   },
   "source": [
    "#  *Normalizing and Calculating Bounding Box Coordinates (YOLO Format Preparation)*"
   ]
  },
  {
   "cell_type": "code",
   "execution_count": null,
   "metadata": {
    "execution": {
     "iopub.execute_input": "2025-09-25T15:53:23.364407Z",
     "iopub.status.busy": "2025-09-25T15:53:23.364133Z",
     "iopub.status.idle": "2025-09-25T15:53:26.414692Z",
     "shell.execute_reply": "2025-09-25T15:53:26.413892Z",
     "shell.execute_reply.started": "2025-09-25T15:53:23.364385Z"
    },
    "papermill": {
     "duration": 7.821668,
     "end_time": "2021-01-01T09:45:02.854149",
     "exception": false,
     "start_time": "2021-01-01T09:44:55.032481",
     "status": "completed"
    },
    "tags": [],
    "trusted": true
   },
   "outputs": [],
   "source": [
    "# ==============================================================================\n",
    "# Bounding Box Normalization and Feature Engineering\n",
    "# ==============================================================================\n",
    "\n",
    "# Normalize coordinates by dividing by image width/height (converts pixels to 0-1 range)\n",
    "train_df['x_min'] = train_df.apply(lambda row: (row.x_min)/row.width, axis =1)\n",
    "train_df['y_min'] = train_df.apply(lambda row: (row.y_min)/row.height, axis =1)\n",
    "\n",
    "# Normalize max coordinates\n",
    "train_df['x_max'] = train_df.apply(lambda row: (row.x_max)/row.width, axis =1)\n",
    "train_df['y_max'] = train_df.apply(lambda row: (row.y_max)/row.height, axis =1)\n",
    "\n",
    "# Calculate normalized center coordinates (midpoint)\n",
    "train_df['x_mid'] = train_df.apply(lambda row: (row.x_max+row.x_min)/2, axis =1)\n",
    "train_df['y_mid'] = train_df.apply(lambda row: (row.y_max+row.y_min)/2, axis =1)\n",
    "\n",
    "# Calculate normalized width (w) and height (h)\n",
    "train_df['w'] = train_df.apply(lambda row: (row.x_max-row.x_min), axis =1)\n",
    "train_df['h'] = train_df.apply(lambda row: (row.y_max-row.y_min), axis =1)\n",
    "\n",
    "# Calculate the normalized bounding box area\n",
    "train_df['area'] = train_df['w']*train_df['h']\n",
    "\n",
    "# Check new normalized columns\n",
    "train_df.head()"
   ]
  },
  {
   "cell_type": "markdown",
   "metadata": {},
   "source": [
    "# *Feature and Target Variable Separation*"
   ]
  },
  {
   "cell_type": "code",
   "execution_count": null,
   "metadata": {
    "execution": {
     "iopub.execute_input": "2025-09-25T15:53:29.079214Z",
     "iopub.status.busy": "2025-09-25T15:53:29.078947Z",
     "iopub.status.idle": "2025-09-25T15:53:29.087716Z",
     "shell.execute_reply": "2025-09-25T15:53:29.087007Z",
     "shell.execute_reply.started": "2025-09-25T15:53:29.079193Z"
    },
    "papermill": {
     "duration": 0.040387,
     "end_time": "2021-01-01T09:45:02.923416",
     "exception": false,
     "start_time": "2021-01-01T09:45:02.883029",
     "status": "completed"
    },
    "tags": [],
    "trusted": true
   },
   "outputs": [],
   "source": [
    "# Define the list of engineered features (normalized bounding box metrics)\n",
    "features = ['x_min', 'y_min', 'x_max', 'y_max', 'x_mid', 'y_mid', 'w', 'h', 'area']\n",
    "\n",
    "# Assign the feature columns to the input variable X (data used for prediction)\n",
    "X = train_df[features]\n",
    "\n",
    "# Assign the target column (class ID) to the output variable y (what we aim to predict)\n",
    "y = train_df['class_id']\n",
    "\n",
    "# Print the shapes of the resulting feature matrix and target vector to confirm dimensions\n",
    "X.shape, y.shape"
   ]
  },
  {
   "cell_type": "markdown",
   "metadata": {},
   "source": [
    "# *Extracting and Ordering Class Names*"
   ]
  },
  {
   "cell_type": "code",
   "execution_count": null,
   "metadata": {
    "execution": {
     "iopub.execute_input": "2025-09-25T15:53:31.251433Z",
     "iopub.status.busy": "2025-09-25T15:53:31.250846Z",
     "iopub.status.idle": "2025-09-25T15:53:31.263114Z",
     "shell.execute_reply": "2025-09-25T15:53:31.262562Z",
     "shell.execute_reply.started": "2025-09-25T15:53:31.251407Z"
    },
    "papermill": {
     "duration": 0.050418,
     "end_time": "2021-01-01T09:45:03.002944",
     "exception": false,
     "start_time": "2021-01-01T09:45:02.952526",
     "status": "completed"
    },
    "tags": [],
    "trusted": true
   },
   "outputs": [],
   "source": [
    "# ==============================================================================\n",
    "# Extract and Prepare Class Labels\n",
    "# ==============================================================================\n",
    "\n",
    "# Extract unique class IDs and names, creating two lists (class_ids, class_names)\n",
    "class_ids, class_names = list(zip(*set(zip(train_df.class_id, train_df.class_name))))\n",
    "\n",
    "# Sort the class names list based on the numerical class IDs\n",
    "classes = list(np.array(class_names)[np.argsort(class_ids)])\n",
    "\n",
    "# Ensure all class names are converted to string type\n",
    "classes = list(map(lambda x: str(x), classes))\n",
    "\n",
    "# Display the final, sorted list of class names\n",
    "classes"
   ]
  },
  {
   "cell_type": "markdown",
   "metadata": {
    "papermill": {
     "duration": 0.052492,
     "end_time": "2021-01-01T09:47:56.110766",
     "exception": false,
     "start_time": "2021-01-01T09:47:56.058274",
     "status": "completed"
    },
    "tags": []
   },
   "source": [
    "# *Data Splitting*"
   ]
  },
  {
   "cell_type": "code",
   "execution_count": null,
   "metadata": {
    "execution": {
     "iopub.execute_input": "2025-09-25T15:53:33.412174Z",
     "iopub.status.busy": "2025-09-25T15:53:33.411668Z",
     "iopub.status.idle": "2025-09-25T15:53:33.463098Z",
     "shell.execute_reply": "2025-09-25T15:53:33.462418Z",
     "shell.execute_reply.started": "2025-09-25T15:53:33.412149Z"
    },
    "papermill": {
     "duration": 0.134603,
     "end_time": "2021-01-01T09:47:56.297774",
     "exception": false,
     "start_time": "2021-01-01T09:47:56.163171",
     "status": "completed"
    },
    "tags": [],
    "trusted": true
   },
   "outputs": [],
   "source": [
    "# ==============================================================================\n",
    "# GroupKFold Cross-Validation Setup\n",
    "# ==============================================================================\n",
    "\n",
    "# Initialize GroupKFold with 5 splits \n",
    "gkf  = GroupKFold(n_splits = 5)\n",
    "\n",
    "# Initialize a new 'fold' column with a placeholder value of -1\n",
    "train_df['fold'] = -1\n",
    "\n",
    "# Iterate through the splits generated by GroupKFold\n",
    "for fold, (train_idx, val_idx) in enumerate(gkf.split(train_df, groups = train_df.image_id.tolist())):\n",
    "    # Assign the current fold number to the 'fold' column for all validation indices (val_idx)\n",
    "    # The 'groups' parameter ensures that all bounding boxes from the same image_id go to the same fold.\n",
    "    train_df.loc[val_idx, 'fold'] = fold\n",
    "\n",
    "# Display the first few rows to verify the 'fold' column has been populated\n",
    "train_df.head()"
   ]
  },
  {
   "cell_type": "markdown",
   "metadata": {},
   "source": [
    "# *Creating Train and Validation File Lists*"
   ]
  },
  {
   "cell_type": "code",
   "execution_count": null,
   "metadata": {
    "execution": {
     "iopub.execute_input": "2025-09-25T15:53:35.536467Z",
     "iopub.status.busy": "2025-09-25T15:53:35.535733Z",
     "iopub.status.idle": "2025-09-25T15:53:35.559910Z",
     "shell.execute_reply": "2025-09-25T15:53:35.559305Z",
     "shell.execute_reply.started": "2025-09-25T15:53:35.536438Z"
    },
    "papermill": {
     "duration": 0.086817,
     "end_time": "2021-01-01T09:47:56.443789",
     "exception": false,
     "start_time": "2021-01-01T09:47:56.356972",
     "status": "completed"
    },
    "tags": [],
    "trusted": true
   },
   "outputs": [
    {
     "data": {
      "text/plain": [
       "(3515, 879)"
      ]
     },
     "execution_count": 41,
     "metadata": {},
     "output_type": "execute_result"
    }
   ],
   "source": [
    "# ==============================================================================\n",
    "# Separate Image Paths for Training and Validation Sets (Specific Fold)\n",
    "# ==============================================================================\n",
    "\n",
    "# Initialize empty lists to hold the paths for the training and validation images\n",
    "train_files = []\n",
    "val_files   = []\n",
    "\n",
    "# Populate the validation list with unique image paths where the 'fold' column matches the current 'fold' variable (e.g., fold 0)\n",
    "val_files += list(train_df[train_df.fold==fold].image_path.unique())\n",
    "\n",
    "# Populate the training list with unique image paths where the 'fold' column does *not* match the current 'fold' variable\n",
    "train_files += list(train_df[train_df.fold!=fold].image_path.unique())\n",
    "\n",
    "# Print the total count of images in the resulting training and validation sets to confirm the split\n",
    "len(train_files), len(val_files)"
   ]
  },
  {
   "cell_type": "markdown",
   "metadata": {
    "papermill": {
     "duration": 0.083752,
     "end_time": "2021-01-01T09:47:56.584924",
     "exception": false,
     "start_time": "2021-01-01T09:47:56.501172",
     "status": "completed"
    },
    "tags": []
   },
   "source": [
    "# *Setting Up Directory Structure and Copying Files for YOLO Training*"
   ]
  },
  {
   "cell_type": "code",
   "execution_count": null,
   "metadata": {
    "execution": {
     "iopub.execute_input": "2025-09-25T15:53:37.642067Z",
     "iopub.status.busy": "2025-09-25T15:53:37.641806Z",
     "iopub.status.idle": "2025-09-25T15:54:27.368473Z",
     "shell.execute_reply": "2025-09-25T15:54:27.367638Z",
     "shell.execute_reply.started": "2025-09-25T15:53:37.642045Z"
    },
    "papermill": {
     "duration": 124.654777,
     "end_time": "2021-01-01T09:50:01.331041",
     "exception": false,
     "start_time": "2021-01-01T09:47:56.676264",
     "status": "completed"
    },
    "tags": [],
    "trusted": true
   },
   "outputs": [],
   "source": [
    "# ==============================================================================\n",
    "# Create Output Directory Structure (YOLO Format)\n",
    "# ==============================================================================\n",
    "\n",
    "# Create directories for training labels and images in the current working directory\n",
    "os.makedirs('/kaggle/working/vinbigdata/labels/train', exist_ok = True)\n",
    "os.makedirs('/kaggle/working/vinbigdata/labels/val', exist_ok = True)\n",
    "os.makedirs('/kaggle/working/vinbigdata/images/train', exist_ok = True)\n",
    "os.makedirs('/kaggle/working/vinbigdata/images/val', exist_ok = True)\n",
    "\n",
    "# Define the source directory where pre-formatted YOLO label files (.txt) are located\n",
    "label_dir = '/kaggle/input/vinbigdata-yolo-labels-dataset/labels'\n",
    "\n",
    "# ==============================================================================\n",
    "# Copy Files to Training Folders\n",
    "# ==============================================================================\n",
    "\n",
    "# Iterate through the list of training image file paths (train_files)\n",
    "for file in tqdm(train_files):\n",
    "    # Copy the image file to the working training images directory\n",
    "    shutil.copy(file, '/kaggle/working/vinbigdata/images/train')\n",
    "    \n",
    "    # Extract the base filename (image_id) without extension\n",
    "    filename = file.split('/')[-1].split('.')[0]\n",
    "    \n",
    "    # Copy the corresponding YOLO label file (.txt) to the working training labels directory\n",
    "    shutil.copy(os.path.join(label_dir, filename+'.txt'), '/kaggle/working/vinbigdata/labels/train')\n",
    "    \n",
    "# ==============================================================================\n",
    "# Copy Files to Validation Folders\n",
    "# ==============================================================================\n",
    "    \n",
    "# Iterate through the list of validation image file paths (val_files)\n",
    "for file in tqdm(val_files):\n",
    "    # Copy the image file to the working validation images directory\n",
    "    shutil.copy(file, '/kaggle/working/vinbigdata/images/val')\n",
    "    \n",
    "    # Extract the base filename (image_id)\n",
    "    filename = file.split('/')[-1].split('.')[0]\n",
    "    \n",
    "    # Copy the corresponding YOLO label file (.txt) to the working validation labels directory\n",
    "    shutil.copy(os.path.join(label_dir, filename+'.txt'), '/kaggle/working/vinbigdata/labels/val')"
   ]
  },
  {
   "cell_type": "markdown",
   "metadata": {
    "papermill": {
     "duration": 0.055699,
     "end_time": "2021-01-01T09:50:01.82747",
     "exception": false,
     "start_time": "2021-01-01T09:50:01.771771",
     "status": "completed"
    },
    "tags": []
   },
   "source": [
    "# *Install YOLO (Ultralytics) Library*"
   ]
  },
  {
   "cell_type": "code",
   "execution_count": null,
   "metadata": {
    "execution": {
     "iopub.execute_input": "2025-09-25T15:54:52.276661Z",
     "iopub.status.busy": "2025-09-25T15:54:52.275973Z",
     "iopub.status.idle": "2025-09-25T15:54:55.613534Z",
     "shell.execute_reply": "2025-09-25T15:54:55.612583Z",
     "shell.execute_reply.started": "2025-09-25T15:54:52.276631Z"
    },
    "trusted": true
   },
   "outputs": [],
   "source": [
    "# Install the Ultralytics package, commonly used for YOLO object detection models\n",
    "!pip install ultralytics"
   ]
  },
  {
   "cell_type": "markdown",
   "metadata": {},
   "source": [
    "# *Verify Ultralytics Installation and Environment Checks*"
   ]
  },
  {
   "cell_type": "code",
   "execution_count": null,
   "metadata": {
    "execution": {
     "iopub.execute_input": "2025-09-25T15:55:10.246257Z",
     "iopub.status.busy": "2025-09-25T15:55:10.245398Z",
     "iopub.status.idle": "2025-09-25T15:55:10.253473Z",
     "shell.execute_reply": "2025-09-25T15:55:10.252828Z",
     "shell.execute_reply.started": "2025-09-25T15:55:10.246221Z"
    },
    "trusted": true
   },
   "outputs": [],
   "source": [
    "# Import the newly installed package\n",
    "import ultralytics\n",
    "\n",
    "# Run a system check to verify that all dependencies are installed, environment is compatible, and GPU is accessible (if applicable)\n",
    "ultralytics.checks()"
   ]
  },
  {
   "cell_type": "markdown",
   "metadata": {},
   "source": [
    "# *Model Training and Finetuning*"
   ]
  },
  {
   "cell_type": "code",
   "execution_count": null,
   "metadata": {
    "execution": {
     "iopub.execute_input": "2025-09-25T15:55:12.417408Z",
     "iopub.status.busy": "2025-09-25T15:55:12.416618Z",
     "iopub.status.idle": "2025-09-25T15:55:12.436430Z",
     "shell.execute_reply": "2025-09-25T15:55:12.435660Z",
     "shell.execute_reply.started": "2025-09-25T15:55:12.417378Z"
    },
    "papermill": {
     "duration": 0.113001,
     "end_time": "2021-01-01T09:50:01.996448",
     "exception": false,
     "start_time": "2021-01-01T09:50:01.883447",
     "status": "completed"
    },
    "tags": [],
    "trusted": true
   },
   "outputs": [],
   "source": [
    "# ==============================================================================\n",
    "# Create YOLO Configuration and Path Files\n",
    "# ==============================================================================\n",
    "from os import listdir  # Import for listing directory contents (though not used in final code)\n",
    "from os.path import isfile, join # Import for checking file status and joining paths\n",
    "import yaml # Library for reading and writing YAML files\n",
    "\n",
    "cwd = '/kaggle/working/' # Define the current working directory for output files\n",
    "\n",
    "# Create train.txt: list of absolute paths to all training images\n",
    "with open(join( cwd , 'train.txt'), 'w') as f:\n",
    "    for path in glob('/kaggle/working/vinbigdata/images/train/*'):\n",
    "        f.write(path+'\\n')\n",
    "            \n",
    "# Create val.txt: list of absolute paths to all validation images\n",
    "with open(join( cwd , 'val.txt'), 'w') as f:\n",
    "    for path in glob('/kaggle/working/vinbigdata/images/val/*'):\n",
    "        f.write(path+'\\n')\n",
    "\n",
    "# Define the YAML data structure for the YOLO configuration file\n",
    "data = dict(\n",
    "    train =  join( cwd , 'train.txt') , # Path to training image list\n",
    "    val   =  join( cwd , 'val.txt' ),   # Path to validation image list\n",
    "    nc    = 14,                         # Number of classes (excluding the filtered 'No Finding' class)\n",
    "    names = classes                     # List of class names (from previous snippet)\n",
    "    )\n",
    "\n",
    "# Write the data dictionary to the vinbigdata.yaml file\n",
    "with open(join( cwd , 'vinbigdata.yaml'), 'w') as outfile:\n",
    "    yaml.dump(data, outfile, default_flow_style=False)\n",
    "\n",
    "# Read and print the contents of the generated YAML file for verification\n",
    "f = open(join( cwd , 'vinbigdata.yaml'), 'r')\n",
    "print('\\nyaml:')\n",
    "print(f.read())"
   ]
  },
  {
   "cell_type": "markdown",
   "metadata": {},
   "source": [
    "# *Final Setup and Environment Verification*"
   ]
  },
  {
   "cell_type": "code",
   "execution_count": null,
   "metadata": {
    "_cell_guid": "79c7e3d0-c299-4dcb-8224-4455121ee9b0",
    "_uuid": "d629ff2d2480ee46fbb7e2d37f6b5fab8052498a",
    "execution": {
     "iopub.execute_input": "2025-09-25T15:55:16.945944Z",
     "iopub.status.busy": "2025-09-25T15:55:16.945658Z",
     "iopub.status.idle": "2025-09-25T15:55:16.951831Z",
     "shell.execute_reply": "2025-09-25T15:55:16.951181Z",
     "shell.execute_reply.started": "2025-09-25T15:55:16.945923Z"
    },
    "papermill": {
     "duration": 6.702428,
     "end_time": "2021-01-01T09:50:08.784153",
     "exception": false,
     "start_time": "2021-01-01T09:50:02.081725",
     "status": "completed"
    },
    "tags": [],
    "trusted": true
   },
   "outputs": [],
   "source": [
    "import torch # Import the primary deep learning framework\n",
    "from IPython.display import Image, clear_output  # Import utilities for displaying images and clearing notebook output\n",
    "\n",
    "# Clear previous output in the notebook cell for a cleaner look\n",
    "clear_output()\n",
    "\n",
    "# Print confirmation of the PyTorch version and whether a GPU (CUDA device 0) is available or if it's falling back to CPU\n",
    "print('Setup complete. Using torch %s %s' % (torch.__version__, torch.cuda.get_device_properties(0) if torch.cuda.is_available() else 'CPU'))"
   ]
  },
  {
   "cell_type": "markdown",
   "metadata": {
    "papermill": {
     "duration": 0.064553,
     "end_time": "2021-01-01T09:50:19.6938",
     "exception": false,
     "start_time": "2021-01-01T09:50:19.629247",
     "status": "completed"
    },
    "tags": []
   },
   "source": [
    "# *YOLO Model Training Execution*"
   ]
  },
  {
   "cell_type": "code",
   "execution_count": null,
   "metadata": {
    "execution": {
     "iopub.execute_input": "2025-09-25T15:55:19.606833Z",
     "iopub.status.busy": "2025-09-25T15:55:19.606124Z",
     "iopub.status.idle": "2025-09-25T17:05:21.228320Z",
     "shell.execute_reply": "2025-09-25T17:05:21.227541Z",
     "shell.execute_reply.started": "2025-09-25T15:55:19.606805Z"
    },
    "papermill": {
     "duration": 19916.498298,
     "end_time": "2021-01-01T15:22:16.289734",
     "exception": false,
     "start_time": "2021-01-01T09:50:19.791436",
     "status": "completed"
    },
    "tags": [],
    "trusted": true
   },
   "outputs": [],
   "source": [
    "# ==============================================================================\n",
    "# Model Training Command (YOLOv8)\n",
    "# ==============================================================================\n",
    "\n",
    "# (Optional: Commented out) Shell command to set WANDB_MODE to \"dryrun\" and execute a custom training script (train_dual.py)\n",
    "# # !WANDB_MODE=\"dryrun\" python train_dual.py \n",
    "\n",
    "# Execute the YOLOv8 training command using the Ultralytics CLI:\n",
    "!yolo train \\\n",
    "    model=yolov8n.pt \\\n",
    "    workers=8 \\\n",
    "    device=0 \\\n",
    "    batch=32 \\\n",
    "    data = /kaggle/working/vinbigdata.yaml \\\n",
    "    imgsz = 640 \\\n",
    "    epochs = 100\n",
    "    \n",
    "# Arguments Explained:\n",
    "# model=yolov8n.pt:     Starts with a pre-trained YOLOv8 Nano model weights.\n",
    "# workers=8:            Number of data loading workers (improves speed).\n",
    "# device=0:             Specifies which GPU to use (device 0).\n",
    "# batch=32:             Sets the batch size for training.\n",
    "# data=...yaml:         Points to the configuration file created in the previous step.\n",
    "# imgsz=640:            Sets the input image size to 640x640 pixels.\n",
    "# epochs=100:           Defines the total number of training epochs."
   ]
  },
  {
   "cell_type": "markdown",
   "metadata": {
    "papermill": {
     "duration": 4.919442,
     "end_time": "2021-01-01T15:22:26.398681",
     "exception": false,
     "start_time": "2021-01-01T15:22:21.479239",
     "status": "completed"
    },
    "tags": []
   },
   "source": [
    "# *Visualize Training Labels and Bounding Boxes*"
   ]
  },
  {
   "cell_type": "code",
   "execution_count": null,
   "metadata": {
    "execution": {
     "iopub.execute_input": "2025-09-25T17:05:48.622798Z",
     "iopub.status.busy": "2025-09-25T17:05:48.622493Z",
     "iopub.status.idle": "2025-09-25T17:05:49.576390Z",
     "shell.execute_reply": "2025-09-25T17:05:49.575531Z",
     "shell.execute_reply.started": "2025-09-25T17:05:48.622770Z"
    },
    "papermill": {
     "duration": 5.977042,
     "end_time": "2021-01-01T15:22:48.614609",
     "exception": false,
     "start_time": "2021-01-01T15:22:42.637567",
     "status": "completed"
    },
    "tags": [],
    "trusted": true
   },
   "outputs": [],
   "source": [
    "# ==============================================================================\n",
    "# Post-Training Visualization\n",
    "# ==============================================================================\n",
    "import matplotlib.pyplot as plt # Re-import/check if not done, for clarity in this block\n",
    "\n",
    "# Initialize a figure for plotting with a large size (20x20 inches)\n",
    "plt.figure(figsize = (20,20))\n",
    "\n",
    "# Turn off the axis tick marks and labels for a clean image display\n",
    "plt.axis('off')\n",
    "\n",
    "# Read and display the 'labels.jpg' file generated by the YOLO training run,\n",
    "# which typically summarizes the dataset's ground truth distribution or validation results.\n",
    "plt.imshow(plt.imread('runs/detect/train/labels.jpg'));"
   ]
  },
  {
   "cell_type": "markdown",
   "metadata": {
    "papermill": {
     "duration": 5.378338,
     "end_time": "2021-01-01T15:22:59.482837",
     "exception": false,
     "start_time": "2021-01-01T15:22:54.104499",
     "status": "completed"
    },
    "tags": []
   },
   "source": [
    "# *Visualize Initial Training Batches*\n"
   ]
  },
  {
   "cell_type": "code",
   "execution_count": null,
   "metadata": {
    "_kg_hide-input": true,
    "execution": {
     "iopub.execute_input": "2025-09-25T17:05:53.332956Z",
     "iopub.status.busy": "2025-09-25T17:05:53.332406Z",
     "iopub.status.idle": "2025-09-25T17:05:57.088680Z",
     "shell.execute_reply": "2025-09-25T17:05:57.087747Z",
     "shell.execute_reply.started": "2025-09-25T17:05:53.332930Z"
    },
    "papermill": {
     "duration": 7.317416,
     "end_time": "2021-01-01T15:23:11.777544",
     "exception": false,
     "start_time": "2021-01-01T15:23:04.460128",
     "status": "completed"
    },
    "tags": [],
    "trusted": true
   },
   "outputs": [],
   "source": [
    "# ==============================================================================\n",
    "# Sanity Check: Visualize Initial Training Batches\n",
    "# ==============================================================================\n",
    "\n",
    "# Display the first training batch image (with ground truth labels overlaid)\n",
    "plt.figure(figsize = (15, 15))\n",
    "plt.imshow(plt.imread('runs/detect/train/train_batch0.jpg'))\n",
    "\n",
    "# Display the second training batch image\n",
    "plt.figure(figsize = (15, 15))\n",
    "plt.imshow(plt.imread('runs/detect/train/train_batch1.jpg'))\n",
    "\n",
    "# Display the third training batch image\n",
    "plt.figure(figsize = (15, 15))\n",
    "plt.imshow(plt.imread('runs/detect/train/train_batch2.jpg'))"
   ]
  },
  {
   "cell_type": "markdown",
   "metadata": {
    "papermill": {
     "duration": 4.941983,
     "end_time": "2021-01-01T15:23:33.765831",
     "exception": false,
     "start_time": "2021-01-01T15:23:28.823848",
     "status": "completed"
    },
    "tags": []
   },
   "source": [
    "# *Model Inference on Validation Data*"
   ]
  },
  {
   "cell_type": "code",
   "execution_count": null,
   "metadata": {
    "_kg_hide-output": true,
    "execution": {
     "iopub.execute_input": "2025-09-25T17:05:59.817989Z",
     "iopub.status.busy": "2025-09-25T17:05:59.817720Z",
     "iopub.status.idle": "2025-09-25T17:06:16.925896Z",
     "shell.execute_reply": "2025-09-25T17:06:16.925151Z",
     "shell.execute_reply.started": "2025-09-25T17:05:59.817969Z"
    },
    "papermill": {
     "duration": 10.763143,
     "end_time": "2021-01-01T15:23:49.800461",
     "exception": false,
     "start_time": "2021-01-01T15:23:39.037318",
     "status": "completed"
    },
    "tags": [],
    "trusted": true
   },
   "outputs": [],
   "source": [
    "# ==============================================================================\n",
    "# Model Inference (Prediction) Command\n",
    "# ==============================================================================\n",
    "\n",
    "# Execute the YOLO prediction command using the Ultralytics CLI:\n",
    "!yolo predict \\\n",
    "    model = runs/detect/train/weights/best.pt \\\n",
    "    imgsz = 640 \\\n",
    "    conf = 0.25 \\\n",
    "    iou = 0.5 \\\n",
    "    source = /kaggle/working/vinbigdata/images/val\n",
    "\n",
    "# Arguments Explained:\n",
    "# model=.../best.pt:   Loads the weights of the best model saved during the training run.\n",
    "# imgsz=640:           Sets the input image size to 640x640 pixels.\n",
    "# conf=0.25:           Sets the minimum confidence threshold for a detection to be considered valid (25%).\n",
    "# iou=0.5:             Sets the Non-Maximum Suppression (NMS) IoU threshold for filtering duplicate boxes (50%).\n",
    "# source=.../val:      Specifies the directory containing the validation images to run predictions on."
   ]
  },
  {
   "cell_type": "markdown",
   "metadata": {
    "papermill": {
     "duration": 5.225725,
     "end_time": "2021-01-01T15:24:00.706026",
     "exception": false,
     "start_time": "2021-01-01T15:23:55.480301",
     "status": "completed"
    },
    "tags": []
   },
   "source": [
    "# *Visualization of Sample Model Predictions* "
   ]
  },
  {
   "cell_type": "code",
   "execution_count": null,
   "metadata": {
    "_kg_hide-input": true,
    "execution": {
     "iopub.execute_input": "2025-09-25T17:06:43.629356Z",
     "iopub.status.busy": "2025-09-25T17:06:43.629040Z",
     "iopub.status.idle": "2025-09-25T17:06:49.999000Z",
     "shell.execute_reply": "2025-09-25T17:06:49.997763Z",
     "shell.execute_reply.started": "2025-09-25T17:06:43.629326Z"
    },
    "papermill": {
     "duration": 5.31015,
     "end_time": "2021-01-01T15:24:11.211904",
     "exception": false,
     "start_time": "2021-01-01T15:24:05.901754",
     "status": "completed"
    },
    "tags": [],
    "trusted": true
   },
   "outputs": [],
   "source": [
    "# ==============================================================================\n",
    "# Visualize Model Prediction Results in a Grid\n",
    "# ==============================================================================\n",
    "import matplotlib.pyplot as plt # Core plotting library\n",
    "from mpl_toolkits.axes_grid1 import ImageGrid # Specific tool for creating image grids\n",
    "import numpy as np # Numerical operations\n",
    "import random # For random sampling of files\n",
    "import cv2 # OpenCV library for image loading and color conversion\n",
    "from glob import glob # For finding file paths\n",
    "from tqdm import tqdm # For displaying a progress bar\n",
    "\n",
    "# Find all files (predicted images) in the YOLO prediction output directory\n",
    "files = glob('runs/detect/predict/*')\n",
    "\n",
    "# Run the visualization process three times to show different random samples\n",
    "for _ in range(3):\n",
    "    row = 4 # Define the number of rows in the grid\n",
    "    col = 4 # Define the number of columns in the grid\n",
    "    \n",
    "    # Randomly select a sample of images equal to the grid size (4x4 = 16 images)\n",
    "    grid_files = random.sample(files, row*col)\n",
    "    images     = [] # List to hold the loaded image arrays\n",
    "    \n",
    "    # Load and convert the color space for each selected image\n",
    "    for image_path in tqdm(grid_files):\n",
    "        # Load image (BGR format by default) and convert to RGB\n",
    "        img          = cv2.cvtColor(cv2.imread(image_path), cv2.COLOR_BGR2RGB)\n",
    "        images.append(img)\n",
    "\n",
    "    # Initialize the main figure with a size proportional to the grid dimensions\n",
    "    fig = plt.figure(figsize=(col*5, row*5))\n",
    "    \n",
    "    # Create the ImageGrid object for the subplot layout\n",
    "    grid = ImageGrid(fig, 111,  # Standard subplot position\n",
    "                     nrows_ncols=(col, row),  # Define grid size\n",
    "                     axes_pad=0.05,  # Minimal padding between images\n",
    "                     )\n",
    "\n",
    "    # Populate the grid: plot each image onto its corresponding axis\n",
    "    for ax, im in zip(grid, images):\n",
    "        ax.imshow(im)\n",
    "        ax.set_xticks([]) # Hide x-axis ticks\n",
    "        ax.set_yticks([]) # Hide y-axis ticks\n",
    "        \n",
    "    plt.show() # Display the final image grid"
   ]
  }
 ],
 "metadata": {
  "kaggle": {
   "accelerator": "gpu",
   "dataSources": [
    {
     "databundleVersionId": 1831594,
     "datasetId": 1042002,
     "sourceId": 24800,
     "sourceType": "competition"
    },
    {
     "databundleVersionId": 1837296,
     "datasetId": 1069682,
     "sourceId": 1799839,
     "sourceType": "datasetVersion"
    },
    {
     "databundleVersionId": 1837523,
     "datasetId": 1069809,
     "sourceId": 1800066,
     "sourceType": "datasetVersion"
    },
    {
     "databundleVersionId": 1837524,
     "datasetId": 1069810,
     "sourceId": 1800067,
     "sourceType": "datasetVersion"
    },
    {
     "databundleVersionId": 1838284,
     "datasetId": 1070245,
     "sourceId": 1800825,
     "sourceType": "datasetVersion"
    },
    {
     "databundleVersionId": 1838236,
     "datasetId": 1069787,
     "sourceId": 1800777,
     "sourceType": "datasetVersion"
    },
    {
     "databundleVersionId": 1838237,
     "datasetId": 1070222,
     "sourceId": 1800778,
     "sourceType": "datasetVersion"
    }
   ],
   "isGpuEnabled": true,
   "isInternetEnabled": true,
   "language": "python",
   "sourceType": "notebook"
  },
  "kernelspec": {
   "display_name": "Python 3",
   "language": "python",
   "name": "python3"
  },
  "language_info": {
   "codemirror_mode": {
    "name": "ipython",
    "version": 3
   },
   "file_extension": ".py",
   "mimetype": "text/x-python",
   "name": "python",
   "nbconvert_exporter": "python",
   "pygments_lexer": "ipython3",
   "version": "3.11.13"
  }
 },
 "nbformat": 4,
 "nbformat_minor": 4
}
